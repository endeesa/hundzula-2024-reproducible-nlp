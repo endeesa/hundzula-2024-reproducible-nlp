{
 "cells": [
  {
   "cell_type": "code",
   "execution_count": 1,
   "metadata": {
    "colab": {},
    "colab_type": "code",
    "executionInfo": {
     "elapsed": 958,
     "status": "ok",
     "timestamp": 1597075213923,
     "user": {
      "displayName": "Anthony Lauly",
      "photoUrl": "https://lh3.googleusercontent.com/a-/AOh14GicOyeOz_Xj0uEzkQx9Q31LqGL5FHw7pQbjKwalpt4=s64",
      "userId": "14816068911778734907"
     },
     "user_tz": -420
    },
    "id": "v8O4zgmoFcrg"
   },
   "outputs": [],
   "source": [
    "# Import Data, clean and set Stopword.\n",
    "import pandas as pd\n",
    "import numpy as np"
   ]
  },
  {
   "cell_type": "code",
   "execution_count": 2,
   "metadata": {
    "colab": {},
    "colab_type": "code",
    "executionInfo": {
     "elapsed": 26817,
     "status": "ok",
     "timestamp": 1597075242071,
     "user": {
      "displayName": "Anthony Lauly",
      "photoUrl": "https://lh3.googleusercontent.com/a-/AOh14GicOyeOz_Xj0uEzkQx9Q31LqGL5FHw7pQbjKwalpt4=s64",
      "userId": "14816068911778734907"
     },
     "user_tz": -420
    },
    "id": "kKR_os6RF4E8"
   },
   "outputs": [],
   "source": [
    "PATH = \"C:\\\\Users\\\\malan\\\\Downloads\\\\News_data\\\\Fake_True_News\\\\\"\n",
    "\n",
    "Fake_news = data.read_csv(PATH+'\"C:\\Users\\malan\\OneDrive - University of Pretoria\\fake (tshivenda ).xlsx\"')\n",
    "True_news = data.read_csv(PATH+'C:\\\\Users\\\\malan\\\\Downloads\\\\News_data\\\\True.csv')\n",
    "\n",
    "Fake_news = Fake_news.drop(['date','subject'], axis=1)\n",
    "True_news = True_news.drop(['date','subject'], axis=1)\n",
    "# using binary numbers to label the data \n",
    "Fake_news['label'] = 0 #Fake news is denote as 0\n",
    "True_news['label'] = 1 #True news is denote as 1"
   ]
  },
  {
   "cell_type": "code",
   "execution_count": 4,
   "metadata": {
    "colab": {
     "base_uri": "https://localhost:8080/",
     "height": 50
    },
    "colab_type": "code",
    "executionInfo": {
     "elapsed": 701,
     "status": "ok",
     "timestamp": 1597075455527,
     "user": {
      "displayName": "Anthony Lauly",
      "photoUrl": "https://lh3.googleusercontent.com/a-/AOh14GicOyeOz_Xj0uEzkQx9Q31LqGL5FHw7pQbjKwalpt4=s64",
      "userId": "14816068911778734907"
     },
     "user_tz": -420
    },
    "id": "DP_m5yRMG-pn",
    "outputId": "cb3dc530-9e6c-4a2d-f6e7-ca5d9fd6ff2f"
   },
   "outputs": [
    {
     "name": "stdout",
     "output_type": "stream",
     "text": [
      "[nltk_data] Downloading package stopwords to /root/nltk_data...\n",
      "[nltk_data]   Unzipping corpora/stopwords.zip.\n"
     ]
    }
   ],
   "source": [
    "\"\"\"\n",
    "Remove every punctuations and numbers from the sentences\n",
    "and filter stopwords using nltk corpus\n",
    "\"\"\"\n",
    "import nltk\n",
    "nltk.download('stopwords')\n",
    "from nltk.corpus import stopwords"
   ]
  },
  {
   "cell_type": "code",
   "execution_count": 5,
   "metadata": {
    "colab": {},
    "colab_type": "code",
    "executionInfo": {
     "elapsed": 540767,
     "status": "ok",
     "timestamp": 1597076093161,
     "user": {
      "displayName": "Anthony Lauly",
      "photoUrl": "https://lh3.googleusercontent.com/a-/AOh14GicOyeOz_Xj0uEzkQx9Q31LqGL5FHw7pQbjKwalpt4=s64",
      "userId": "14816068911778734907"
     },
     "user_tz": -420
    },
    "id": "ohzMcCCwGmbA"
   },
   "outputs": [],
   "source": [
    "stop_list = set(stopwords.words('english'))\n",
    "\n",
    "punc = '''!()-–[]{};:`’‘“'\"\\, <>.+=/?@#$”%^&…*_~'''\n",
    "numbers = '''0123456789'''\n",
    "\n",
    "X= [] #Prepare a list for feature set\n",
    "\n",
    "#Filter out the fake news\n",
    "for text in Fake_news.text:\n",
    "    for word in text:\n",
    "        text = text.replace(word, word.lower()) \n",
    "        if word in punc:  \n",
    "            text = text.replace(word, \" \") \n",
    "        if word in numbers:  \n",
    "            text = text.replace(word, \" \") \n",
    "            \n",
    "    text = data.Series(text)\n",
    "    text_list = text.str.split()[0]\n",
    "    filtered_words = []\n",
    "    for word in text_list:\n",
    "        if word not in stop_list:\n",
    "            filtered_words.append(word)\n",
    "    X.append(filtered_words)\n",
    "\n",
    "#Filter out the true news\n",
    "for text in True_news.text:\n",
    "    for word in text:\n",
    "        text = text.replace(word, word.lower()) \n",
    "        if word in punc:  \n",
    "            text = text.replace(word, \" \") \n",
    "        if word in numbers:  \n",
    "            text = text.replace(word, \" \") \n",
    "            \n",
    "    text = pd.Series(text)\n",
    "    text_list = text.str.split()[0]\n",
    "    filtered_words = []\n",
    "    for word in text_list:\n",
    "        if word not in stop_list:\n",
    "            filtered_words.append(word)\n",
    "    X.append(filtered_words)\n",
    "\n",
    "#Create the label\n",
    "y = np.zeros(len(Fake_news)+len(True_news))\n",
    "y[len(True_news):] = 1"
   ]
  },
  {
   "cell_type": "code",
   "execution_count": 6,
   "metadata": {
    "colab": {},
    "colab_type": "code",
    "executionInfo": {
     "elapsed": 19789,
     "status": "ok",
     "timestamp": 1597076521093,
     "user": {
      "displayName": "Anthony Lauly",
      "photoUrl": "https://lh3.googleusercontent.com/a-/AOh14GicOyeOz_Xj0uEzkQx9Q31LqGL5FHw7pQbjKwalpt4=s64",
      "userId": "14816068911778734907"
     },
     "user_tz": -420
    },
    "id": "4V4-UuDpICTZ"
   },
   "outputs": [],
   "source": [
    "from sklearn.model_selection import train_test_split\n",
    "X_train, X_val, y_train, y_val = train_test_split(X, y, test_size = 0.2, \n",
    "                                                  random_state=512)\n",
    "\n",
    "from tensorflow.keras.preprocessing.text import Tokenizer\n",
    "from tensorflow.keras.preprocessing.sequence import pad_sequences\n",
    "\n",
    "tokenizer = Tokenizer(num_words=5000, oov_token='-')\n",
    "tokenizer.fit_on_texts(X_train)\n",
    "\n",
    "token_dict = tokenizer.word_index\n",
    "\n",
    "seq_train = tokenizer.texts_to_sequences(X_train)\n",
    "seq_train = pad_sequences(seq_train, padding='post', maxlen=200)\n",
    "\n",
    "seq_val = tokenizer.texts_to_sequences(X_val)\n",
    "seq_val = pad_sequences(seq_val, padding='post', maxlen=200)"
   ]
  },
  {
   "cell_type": "code",
   "execution_count": 7,
   "metadata": {
    "colab": {
     "base_uri": "https://localhost:8080/",
     "height": 353
    },
    "colab_type": "code",
    "executionInfo": {
     "elapsed": 2032982,
     "status": "ok",
     "timestamp": 1597078554079,
     "user": {
      "displayName": "Anthony Lauly",
      "photoUrl": "https://lh3.googleusercontent.com/a-/AOh14GicOyeOz_Xj0uEzkQx9Q31LqGL5FHw7pQbjKwalpt4=s64",
      "userId": "14816068911778734907"
     },
     "user_tz": -420
    },
    "id": "_50waRNPIIk1",
    "outputId": "251ac0c1-2260-4010-a496-e37405eea5b9"
   },
   "outputs": [
    {
     "name": "stdout",
     "output_type": "stream",
     "text": [
      "Epoch 1/10\n",
      "281/281 [==============================] - 204s 724ms/step - loss: 0.3561 - accuracy: 0.8322 - val_loss: 0.1955 - val_accuracy: 0.9434\n",
      "Epoch 2/10\n",
      "281/281 [==============================] - 203s 722ms/step - loss: 0.1873 - accuracy: 0.9409 - val_loss: 0.1493 - val_accuracy: 0.9640\n",
      "Epoch 3/10\n",
      "281/281 [==============================] - 203s 723ms/step - loss: 0.1765 - accuracy: 0.9415 - val_loss: 0.2201 - val_accuracy: 0.9155\n",
      "Epoch 4/10\n",
      "281/281 [==============================] - 202s 719ms/step - loss: 0.2237 - accuracy: 0.9067 - val_loss: 0.1418 - val_accuracy: 0.9432\n",
      "Epoch 5/10\n",
      "281/281 [==============================] - 201s 717ms/step - loss: 0.2529 - accuracy: 0.9018 - val_loss: 0.2021 - val_accuracy: 0.9372\n",
      "Epoch 6/10\n",
      "281/281 [==============================] - 201s 715ms/step - loss: 0.2146 - accuracy: 0.9296 - val_loss: 0.1951 - val_accuracy: 0.9381\n",
      "Epoch 7/10\n",
      "281/281 [==============================] - 201s 715ms/step - loss: 0.1787 - accuracy: 0.9440 - val_loss: 0.1630 - val_accuracy: 0.9508\n",
      "Epoch 8/10\n",
      "281/281 [==============================] - 201s 716ms/step - loss: 0.2291 - accuracy: 0.9123 - val_loss: 0.4083 - val_accuracy: 0.7223\n",
      "Epoch 9/10\n",
      "281/281 [==============================] - 201s 717ms/step - loss: 0.2477 - accuracy: 0.8801 - val_loss: 0.1352 - val_accuracy: 0.9618\n",
      "Epoch 10/10\n",
      "281/281 [==============================] - 202s 718ms/step - loss: 0.1549 - accuracy: 0.9563 - val_loss: 0.1367 - val_accuracy: 0.9611\n"
     ]
    }
   ],
   "source": [
    "import tensorflow as tf\n",
    "model = tf.keras.Sequential([\n",
    "    tf.keras.layers.Embedding(input_dim=5000, output_dim=75),\n",
    "    tf.keras.layers.SpatialDropout1D(0.2),\n",
    "#    tf.keras.layers.LSTM(75, dropout=0.2, recurrent_dropout=0.2, \n",
    "#                         return_sequences=True),\n",
    "    tf.keras.layers.LSTM(75, dropout=0.2, recurrent_dropout=0.2),\n",
    "    tf.keras.layers.Dropout(0.2),    \n",
    "    tf.keras.layers.Dense(512, activation='relu'),\n",
    "    tf.keras.layers.Dense(128, activation='relu'),\n",
    "    tf.keras.layers.Dense(1, activation='sigmoid')\n",
    "])\n",
    "model.compile(loss='binary_crossentropy',optimizer='adam',metrics=['accuracy'])\n",
    "history = model.fit(seq_train, y_train, epochs=10, batch_size=128, \n",
    "          validation_data=(seq_val, y_val))"
   ]
  },
  {
   "cell_type": "code",
   "execution_count": 17,
   "metadata": {
    "colab": {},
    "colab_type": "code",
    "executionInfo": {
     "elapsed": 1049,
     "status": "ok",
     "timestamp": 1597080011425,
     "user": {
      "displayName": "Anthony Lauly",
      "photoUrl": "https://lh3.googleusercontent.com/a-/AOh14GicOyeOz_Xj0uEzkQx9Q31LqGL5FHw7pQbjKwalpt4=s64",
      "userId": "14816068911778734907"
     },
     "user_tz": -420
    },
    "id": "GS0fwM2IXYbe"
   },
   "outputs": [],
   "source": [
    "#data visulization \n",
    "training_loss = history.history['loss']\n",
    "val_acc = history.history['val_accuracy']\n",
    "train_acc = history.history['accuracy']\n",
    "epoch = np.arange(0,10)"
   ]
  },
  {
   "cell_type": "code",
   "execution_count": 21,
   "metadata": {
    "colab": {
     "base_uri": "https://localhost:8080/",
     "height": 298
    },
    "colab_type": "code",
    "executionInfo": {
     "elapsed": 857,
     "status": "ok",
     "timestamp": 1597080108592,
     "user": {
      "displayName": "Anthony Lauly",
      "photoUrl": "https://lh3.googleusercontent.com/a-/AOh14GicOyeOz_Xj0uEzkQx9Q31LqGL5FHw7pQbjKwalpt4=s64",
      "userId": "14816068911778734907"
     },
     "user_tz": -420
    },
    "id": "stvZ3joMYRCT",
    "outputId": "8866fa69-0377-4306-e2e3-1ca952092bbc"
   },
   "outputs": [
    {
     "data": {
      "text/plain": [
       "<matplotlib.legend.Legend at 0x7fb76af47748>"
      ]
     },
     "execution_count": 21,
     "metadata": {
      "tags": []
     },
     "output_type": "execute_result"
    },
    {
     "data": {
      "image/png": "[encoded data removed]",
      "text/plain": [
       "<Figure size 432x288 with 1 Axes>"
      ]
     },
     "metadata": {
      "needs_background": "light",
      "tags": []
     },
     "output_type": "display_data"
    }
   ],
   "source": [
    "import matplotlib.pyplot as plt\n",
    "%matplotlib inline \n",
    "\n",
    "plt.plot(epoch, val_acc)\n",
    "plt.plot(epoch, train_acc)\n",
    "plt.title('Accuracy')\n",
    "plt.legend(['val_acc', 'train_acc'])"
   ]
  },
  {
   "cell_type": "code",
   "execution_count": 23,
   "metadata": {
    "colab": {
     "base_uri": "https://localhost:8080/",
     "height": 298
    },
    "colab_type": "code",
    "executionInfo": {
     "elapsed": 1037,
     "status": "ok",
     "timestamp": 1597080281378,
     "user": {
      "displayName": "Anthony Lauly",
      "photoUrl": "https://lh3.googleusercontent.com/a-/AOh14GicOyeOz_Xj0uEzkQx9Q31LqGL5FHw7pQbjKwalpt4=s64",
      "userId": "14816068911778734907"
     },
     "user_tz": -420
    },
    "id": "vXt7tnfrZKzh",
    "outputId": "8679ed1f-946e-4910-b2e6-cb4b230a9cae"
   },
   "outputs": [
    {
     "data": {
      "text/plain": [
       "Text(0.5, 1.0, 'Train Loss')"
      ]
     },
     "execution_count": 23,
     "metadata": {
      "tags": []
     },
     "output_type": "execute_result"
    },
    {
     "data": {
      "image/png": "[encoded data removed]",
      "text/plain": [
       "<Figure size 432x288 with 1 Axes>"
      ]
     },
     "metadata": {
      "needs_background": "light",
      "tags": []
     },
     "output_type": "display_data"
    }
   ],
   "source": [
    "plt.plot(epoch, training_loss)\n",
    "plt.title('Train Loss')"
   ]
  }
 ],
 "metadata": {
  "accelerator": "TPU",
  "colab": {
   "authorship_tag": "ABX9TyPBkoZ5ncgMcajtEM4ErqOF",
   "collapsed_sections": [],
   "mount_file_id": "13sCJbg97AzS7dNRTu7ZzK1DjVTmiAG6V",
   "name": "BPML_submission_1.ipynb",
   "provenance": []
  },
  "kernelspec": {
   "display_name": "Python 3 (ipykernel)",
   "language": "python",
   "name": "python3"
  },
  "language_info": {
   "codemirror_mode": {
    "name": "ipython",
    "version": 3
   },
   "file_extension": ".py",
   "mimetype": "text/x-python",
   "name": "python",
   "nbconvert_exporter": "python",
   "pygments_lexer": "ipython3",
   "version": "3.11.5"
  }
 },
 "nbformat": 4,
 "nbformat_minor": 4
}
